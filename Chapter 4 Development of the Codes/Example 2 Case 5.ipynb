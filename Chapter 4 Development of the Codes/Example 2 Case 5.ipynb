{
 "cells": [
  {
   "cell_type": "code",
   "execution_count": 1,
   "id": "3a46e2d8",
   "metadata": {},
   "outputs": [],
   "source": [
    "from scipy.sparse import diags #linalg\n",
    "from scipy.linalg import solve\n",
    "import numpy as np\n",
    "from matplotlib import pyplot as plt"
   ]
  },
  {
   "cell_type": "code",
   "execution_count": 2,
   "id": "becc5b34",
   "metadata": {},
   "outputs": [],
   "source": [
    "def solver(T,dt):\n",
    "    N = int(round(T/dt))\n",
    "    t = np.linspace(0,T,N+1) #time discrete\n",
    "    M = int(round(L/dx))\n",
    "    x = np.linspace(0,L,M+1) #space discrete\n",
    "    E = np.zeros((2*M+2,N+1))\n",
    "    S1 = np.zeros((M+1,N+1))\n",
    "    S12 = np.zeros((M+1,N+1))\n",
    "    S11 = np.zeros((M+1,N+1))\n",
    "    S = np.zeros((M+1,N+1))\n",
    "    C1 = np.zeros((M+1,N+1))\n",
    "    C12 = np.zeros((M+1,N+1))\n",
    "    C = np.zeros((M+1,N+1))\n",
    "    PPX = np.zeros((M+1))\n",
    "    Em = np.zeros((2*M+2,N+1))\n",
    "    Ei = np.zeros((M+1,N+1))\n",
    "    X1 = np.zeros((2*M+2,N+1))\n",
    "    B = np.zeros((M+1))\n",
    "    RHS1 = np.zeros((2*M+2))\n",
    "    S1_lag = np.zeros((M+1,N+1))\n",
    "    S11 = np.zeros((2*M+2,N+1))\n",
    "    E_for = np.zeros((M+1,N+1))\n",
    "    E_alm = np.zeros((M+1,N+1)) \n",
    "    \n",
    "    #initial conditions\n",
    "    S[0,0] = 1\n",
    "    C[0,0] = 0\n",
    "    S1[0,0] = p*h*den*S[0,0]\n",
    "    C1[0,0] = p*h*den*theta*C[0,0]\n",
    "    B[0] = S[0,0]  #boundary condition\n",
    "   \n",
    "    #lagrangian Step\n",
    "    S1_lag[0:10,0] = S[0,0]\n",
    "    X1[:,0] = np.concatenate((S1_lag[:,0],C[:,0]))\n",
    "    \n",
    "    #special time step at n=0\n",
    "    S12[:,1] = (dt/rho2)*(r*C[:,0]-r*S1_lag[:,0])+S1_lag[:,0]\n",
    "    S11[:,1] = np.concatenate(((rho2/dt)*S12[:,1],np.zeros((M+1))))\n",
    "    \n",
    "    U = diags([1], [0,], shape=(M+1, M+1)).toarray()\n",
    "    X = np.zeros((M+1)**2).reshape(M+1,M+1)\n",
    "    Y1 = np.block([[(rho2/dt+r)*U,-r*U],[-r*p*h*U,(A*(rho1/dt)+r*p*h)*U]])\n",
    "    Y2 = np.block([[r*U,-r*U],[X,(A*(rho1/dt))*U]])\n",
    "    RHS1[:] = Y2.dot(X1[:,0]) + S11[:,1]\n",
    "    E[:,1] = np.linalg.solve(Y1, RHS1)\n",
    "    \n",
    "    S[:,1] =E[0:401,1]\n",
    "    C[:,1] = E[401:802,1]\n",
    "    S[0,1] = 1\n",
    "    \n",
    "    for n in range(1,N):\n",
    "        S1_lag[0:10,n] = S[0,0]\n",
    "        S1_lag[10:M+1,n] = S[1:M-8,n]+((dt-9*dx)/dx)*(S[0:M-9,n]-S[1:M-8,n])\n",
    "        X1[:,n] =  np.concatenate((S1_lag[:,n],C[:,n]))\n",
    "        S12[:,n+1] = (dt/rho2)*(r*C[:,n]-r*S1_lag[:,n])+S1_lag[:,n]\n",
    "        S11[:,n+1] = np.concatenate(((rho2/dt)*S12[:,n+1],np.zeros((M+1))))\n",
    "        U = diags([1], [0,], shape=(M+1, M+1)).toarray()\n",
    "        X = np.zeros((M+1)**2).reshape(M+1,M+1)\n",
    "        Y1 = np.block([[(rho2/dt+r)*U,-r*U],[-r*p*h*U,(A*(rho1/dt)+r*p*h)*U]])\n",
    "        Y2 = np.block([[r*U,-r*U],[X,(A*(rho1/dt))*U]])\n",
    "        RHS1[:] = Y2.dot(X1[:,n]) + S11[:,n+1]\n",
    "        E[:,n+1] = np.linalg.solve(Y1, RHS1)\n",
    "        \n",
    "        S[:,n+1] =E[0:401,n+1]\n",
    "        C[:,n+1] = E[401:802,n+1]   \n",
    "        S[0,n+1] = 1\n",
    "        \n",
    "    return   S, x, t"
   ]
  },
  {
   "cell_type": "code",
   "execution_count": 3,
   "id": "4a41f292",
   "metadata": {},
   "outputs": [],
   "source": [
    "from scipy.integrate import quad\n",
    "#Solving for matrices L1, L2, L3\n",
    "T = 1800\n",
    "L = 4000\n",
    "wd = 10         #width\n",
    "h = 2           #height\n",
    "fv = 1          #flow velocity\n",
    "sg = 1          #specific gravity\n",
    "den = 1000      #density of CIMW and CMW\n",
    "p = 2*h+wd      #wetted perimeter\n",
    "theta = 1       #porosity\n",
    "l = 10          #element distance\n",
    "Q = 20          #flow rate\n",
    "K = 0           #dispersion coefficient K=diffusion+dispersitivity*fv\n",
    "A = wd*h        #Area\n",
    "r = 1.5\n",
    "dt = 90        #time step size\n",
    "dx = 10\n",
    "w1 = 1          #weight\n",
    "w2 = 0\n",
    "N = int(round(T/dt))          #no. of time steps\n",
    "M = int(round(L/dx))          #no. of nodes\n",
    "\n",
    "rho1 = p*h*den*theta/A\n",
    "rho2 = den\n",
    "\n",
    "\n",
    "\n",
    "(S,x,t) = solver(T,dt)\n",
    "\n"
   ]
  },
  {
   "cell_type": "code",
   "execution_count": 4,
   "id": "761c8a69",
   "metadata": {},
   "outputs": [
    {
     "data": {
      "image/png": "[encoded data removed]",
      "text/plain": [
       "<Figure size 432x288 with 1 Axes>"
      ]
     },
     "metadata": {
      "needs_background": "light"
     },
     "output_type": "display_data"
    }
   ],
   "source": [
    "fig, ax = plt.subplots()\n",
    "ax.axis([-0.1,L+0.1,-0.01,1.1]) \n",
    "ax.grid(which='major', color='#DDDDDD', linewidth=0.8)\n",
    "ax.grid(which='minor', color='#EEEEEE', linestyle=':', linewidth=0.5)\n",
    "ax.minorticks_on()\n",
    "\n",
    "plt.plot(x,S[:,N], \"--\")\n",
    "plt.plot(x,S[:,N], \":\")\n",
    "plt.legend([\"Mixed PC and OS\", \"Operator Splitting\"], loc =\"lower right\")\n",
    "plt.xlabel(\"x\")\n",
    "plt.ylabel(\"$F_m$ (mg/L)\")\n",
    "plt.title(\"Case 5\")\n",
    "plt.savefig('Example 2 Case 5.png')\n",
    "\n",
    "plt.show()"
   ]
  },
  {
   "cell_type": "code",
   "execution_count": null,
   "id": "4f9cdff9",
   "metadata": {},
   "outputs": [],
   "source": []
  }
 ],
 "metadata": {
  "kernelspec": {
   "display_name": "Python 3 (ipykernel)",
   "language": "python",
   "name": "python3"
  },
  "language_info": {
   "codemirror_mode": {
    "name": "ipython",
    "version": 3
   },
   "file_extension": ".py",
   "mimetype": "text/x-python",
   "name": "python",
   "nbconvert_exporter": "python",
   "pygments_lexer": "ipython3",
   "version": "3.9.12"
  }
 },
 "nbformat": 4,
 "nbformat_minor": 5
}
