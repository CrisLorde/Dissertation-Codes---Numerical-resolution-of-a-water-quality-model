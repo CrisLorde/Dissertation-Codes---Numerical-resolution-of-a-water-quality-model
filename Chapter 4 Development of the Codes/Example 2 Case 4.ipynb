{
 "cells": [
  {
   "cell_type": "code",
   "execution_count": 1,
   "id": "040dca96",
   "metadata": {},
   "outputs": [],
   "source": [
    "from scipy.sparse import diags #linalg\n",
    "from scipy.linalg import solve\n",
    "import numpy as np\n",
    "from matplotlib import pyplot as plt"
   ]
  },
  {
   "cell_type": "code",
   "execution_count": 2,
   "id": "2b60bf80",
   "metadata": {},
   "outputs": [],
   "source": [
    "def solver(T,dt):\n",
    "    N = int(round(T/dt))\n",
    "    t = np.linspace(0,T,N+1) #time discrete\n",
    "    M = int(round(L/dx))\n",
    "    x = np.linspace(0,L,M+1) #space discrete\n",
    "    E = np.zeros((M+1,N+1))\n",
    "    S = np.zeros((M+1,N+1))\n",
    "    C = np.zeros((M+1,N+1))\n",
    "    Em = np.zeros((M+1,N+1))\n",
    "    Ei = np.zeros((M+1,N+1))\n",
    "    Em_lag = np.zeros((M+1,N+1))\n",
    "    \n",
    "    \n",
    "    #initial conditions\n",
    "    S[0,0] = 1\n",
    "    C[0,0] = 0\n",
    "    Em[0,0] = p*h*rho2*S[0,0]\n",
    "    Ei[0,0] = rho1*C[0,0]\n",
    "   \n",
    "    #lagrangian Step\n",
    "    Em_lag[0:10,0] = Em[0,0]\n",
    "    \n",
    "    #special time step at n=0  \n",
    "    E[:,1] = Em_lag[:,0] + Ei[:,0]\n",
    "    S[:,1] = E[:,1] / (p*h*rho2+rho1)\n",
    "    C[:,1] = S[:,1]\n",
    "    Ei[:,1] = rho1*C[:,1]\n",
    "    Em[:,1] = p*h*rho2*S[:,1]\n",
    "    S[0,1] = 1\n",
    "    \n",
    "    for n in range(1,N):\n",
    "        Em_lag[0:10,n] = Em[0,0]\n",
    "        Em_lag[10:M+1,n] = Em[1:M-8,n]+((dt-9*dx)/dx)*(Em[0:M-9,n]-Em[1:M-8,n])\n",
    "        E[:,n+1] = Em_lag[:,n] + Ei[:,n]\n",
    "        S[:,n+1] = E[:,n+1] / (p*h*rho2+rho1)\n",
    "        C[:,n+1] = S[:,n+1]\n",
    "        Ei[:,n+1] = rho1*C[:,n+1]\n",
    "        Em[:,n+1] = p*h*rho2*S[:,n+1]\n",
    "        S[0,n+1] = 1\n",
    "        \n",
    "    return   S, x, t\n"
   ]
  },
  {
   "cell_type": "code",
   "execution_count": 3,
   "id": "f064aaf7",
   "metadata": {},
   "outputs": [],
   "source": [
    "from scipy.integrate import quad\n",
    "#Solving for matrices L1, L2, L3\n",
    "T = 1800\n",
    "L = 4000\n",
    "wd = 10         #width\n",
    "h = 2           #height\n",
    "fv = 1         #flow velocity\n",
    "sg = 1          #specific gravity\n",
    "den = 1000         #density of CIMW and CMW\n",
    "p = 2*h+wd      #wetted perimeter\n",
    "theta = 1       #porosity\n",
    "l = 10          #element distance\n",
    "Q = 20          #flow rate\n",
    "K = 0          #dispersion coefficient K=diffusion+dispersitivity*fv\n",
    "A = 20          #Area\n",
    "dt = 90         #time step size\n",
    "dx = 10\n",
    "rho1 = p*h*den*theta\n",
    "rho2 = den\n",
    "N = int(round(T/dt))          #no. of time steps\n",
    "M = int(round(L/dx))          #no. of nodes\n",
    "\n",
    "(S,x,t) = solver(T,dt)"
   ]
  },
  {
   "cell_type": "code",
   "execution_count": 4,
   "id": "f0ac5f5f",
   "metadata": {},
   "outputs": [
    {
     "data": {
      "image/png": "[encoded data removed]",
      "text/plain": [
       "<Figure size 432x288 with 1 Axes>"
      ]
     },
     "metadata": {
      "needs_background": "light"
     },
     "output_type": "display_data"
    }
   ],
   "source": [
    "fig, ax = plt.subplots()\n",
    "ax.axis([-0.1,L+0.1,-0.01,1.1]) \n",
    "ax.grid(which='major', color='#DDDDDD', linewidth=0.8)\n",
    "ax.grid(which='minor', color='#EEEEEE', linestyle=':', linewidth=0.5)\n",
    "ax.minorticks_on()\n",
    "\n",
    "plt.plot(x,S[:,N], \"--\")\n",
    "plt.plot(x,S[:,N], \":\")\n",
    "plt.legend([\"Mixed PC and OS\", \"Operator Splitting\"], loc =\"lower right\")\n",
    "plt.xlabel(\"x\")\n",
    "plt.ylabel(\"$F_m$ (mg/L)\")\n",
    "plt.title(\"Case 4\")\n",
    "plt.savefig('Example 2 Case 4.png')\n",
    "\n",
    "plt.show()"
   ]
  },
  {
   "cell_type": "code",
   "execution_count": null,
   "id": "94bcbfcd",
   "metadata": {},
   "outputs": [],
   "source": []
  }
 ],
 "metadata": {
  "kernelspec": {
   "display_name": "Python 3 (ipykernel)",
   "language": "python",
   "name": "python3"
  },
  "language_info": {
   "codemirror_mode": {
    "name": "ipython",
    "version": 3
   },
   "file_extension": ".py",
   "mimetype": "text/x-python",
   "name": "python",
   "nbconvert_exporter": "python",
   "pygments_lexer": "ipython3",
   "version": "3.9.12"
  }
 },
 "nbformat": 4,
 "nbformat_minor": 5
}
